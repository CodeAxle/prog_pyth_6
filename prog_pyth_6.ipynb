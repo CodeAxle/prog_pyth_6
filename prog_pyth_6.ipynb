{
 "cells": [
  {
   "cell_type": "markdown",
   "id": "7ef8304d",
   "metadata": {},
   "source": [
    "# 1."
   ]
  },
  {
   "cell_type": "code",
   "execution_count": 1,
   "id": "194c685a",
   "metadata": {},
   "outputs": [
    {
     "name": "stdout",
     "output_type": "stream",
     "text": [
      "Enter the number of terms: 5\n",
      "Fibonacci sequence:\n",
      "0\n",
      "1\n",
      "1\n",
      "2\n",
      "3\n"
     ]
    }
   ],
   "source": [
    "# code:\n",
    "def fibonacci(n):\n",
    "    if n <= 0:\n",
    "        return \"Invalid input! Please enter a positive integer.\"\n",
    "    elif n == 1:\n",
    "        return 0\n",
    "    elif n == 2:\n",
    "        return 1\n",
    "    else:\n",
    "        return fibonacci(n - 1) + fibonacci(n - 2)\n",
    "\n",
    "terms = int(input(\"Enter the number of terms: \"))\n",
    "\n",
    "if terms <= 0:\n",
    "    print(\"Invalid input! Please enter a positive integer.\")\n",
    "else:\n",
    "    print(\"Fibonacci sequence:\")\n",
    "    for i in range(1, terms + 1):\n",
    "        print(fibonacci(i))"
   ]
  },
  {
   "cell_type": "markdown",
   "id": "e44be98d",
   "metadata": {},
   "source": [
    "# 2."
   ]
  },
  {
   "cell_type": "code",
   "execution_count": 3,
   "id": "5b2a1c68",
   "metadata": {},
   "outputs": [
    {
     "name": "stdout",
     "output_type": "stream",
     "text": [
      "Enter a non-negative integer: 4\n",
      "Factorial of 4 is 24.\n"
     ]
    }
   ],
   "source": [
    "# code:\n",
    "def factorial(n):\n",
    "    if n == 0:\n",
    "        return 1\n",
    "    else:\n",
    "        return n * factorial(n - 1)\n",
    "\n",
    "# Input from the user\n",
    "num = int(input(\"Enter a non-negative integer: \"))\n",
    "\n",
    "if num < 0:\n",
    "    print(\"Factorial is not defined for negative numbers.\")\n",
    "elif num == 0:\n",
    "    print(\"Factorial of 0 is 1.\")\n",
    "else:\n",
    "    result = factorial(num)\n",
    "    print(f\"Factorial of {num} is {result}.\")"
   ]
  },
  {
   "cell_type": "markdown",
   "id": "1c22f96e",
   "metadata": {},
   "source": [
    "# 3."
   ]
  },
  {
   "cell_type": "code",
   "execution_count": 4,
   "id": "0843c920",
   "metadata": {},
   "outputs": [
    {
     "name": "stdout",
     "output_type": "stream",
     "text": [
      "Enter your weight in kilograms: 88\n",
      "Enter your height in centimeters: 178\n",
      "Your Body Mass Index (BMI) is: 27.77\n"
     ]
    }
   ],
   "source": [
    "# code:\n",
    "def calculate_bmi(weight, height):\n",
    "    # Convert height from centimeters to meters\n",
    "    height_meters = height / 100\n",
    "    \n",
    "    # Calculate BMI\n",
    "    bmi = weight / (height_meters ** 2)\n",
    "    \n",
    "    return bmi\n",
    "\n",
    "# Input weight in kilograms\n",
    "weight = float(input(\"Enter your weight in kilograms: \"))\n",
    "\n",
    "# Input height in centimeters\n",
    "height = float(input(\"Enter your height in centimeters: \"))\n",
    "\n",
    "# Calculate BMI\n",
    "bmi = calculate_bmi(weight, height)\n",
    "\n",
    "# Print BMI\n",
    "print(f\"Your Body Mass Index (BMI) is: {bmi:.2f}\")"
   ]
  },
  {
   "cell_type": "markdown",
   "id": "3086d881",
   "metadata": {},
   "source": [
    "# 4."
   ]
  },
  {
   "cell_type": "code",
   "execution_count": 5,
   "id": "462e5921",
   "metadata": {},
   "outputs": [
    {
     "name": "stdout",
     "output_type": "stream",
     "text": [
      "Enter a number to calculate its natural logarithm: 10\n",
      "The natural logarithm of 10.0 is: 2.30\n"
     ]
    }
   ],
   "source": [
    "# code:\n",
    "import math\n",
    "\n",
    "def calculate_logarithm(number):\n",
    "    # Calculate the natural logarithm of the number\n",
    "    logarithm = math.log(number)\n",
    "    \n",
    "    return logarithm\n",
    "\n",
    "# Input the number\n",
    "number = float(input(\"Enter a number to calculate its natural logarithm: \"))\n",
    "\n",
    "# Calculate the natural logarithm\n",
    "logarithm = calculate_logarithm(number)\n",
    "\n",
    "# Print the natural logarithm\n",
    "print(f\"The natural logarithm of {number} is: {logarithm:.2f}\")"
   ]
  },
  {
   "cell_type": "markdown",
   "id": "1fa17a75",
   "metadata": {},
   "source": [
    "# 5."
   ]
  },
  {
   "cell_type": "code",
   "execution_count": 6,
   "id": "f1ab60b4",
   "metadata": {},
   "outputs": [
    {
     "name": "stdout",
     "output_type": "stream",
     "text": [
      "Enter the value of n: 6\n",
      "The cube sum of the first 6 natural numbers is: 441\n"
     ]
    }
   ],
   "source": [
    "# code:\n",
    "def cube_sum(n):\n",
    "    # Calculate the sum of cubes of first n natural numbers\n",
    "    sum_of_cubes = ((n * (n + 1)) // 2) ** 2\n",
    "    \n",
    "    return sum_of_cubes\n",
    "\n",
    "# Input the value of n\n",
    "n = int(input(\"Enter the value of n: \"))\n",
    "\n",
    "# Calculate the cube sum\n",
    "result = cube_sum(n)\n",
    "\n",
    "# Print the cube sum\n",
    "print(f\"The cube sum of the first {n} natural numbers is: {result}\")"
   ]
  }
 ],
 "metadata": {
  "kernelspec": {
   "display_name": "Python 3 (ipykernel)",
   "language": "python",
   "name": "python3"
  },
  "language_info": {
   "codemirror_mode": {
    "name": "ipython",
    "version": 3
   },
   "file_extension": ".py",
   "mimetype": "text/x-python",
   "name": "python",
   "nbconvert_exporter": "python",
   "pygments_lexer": "ipython3",
   "version": "3.11.5"
  }
 },
 "nbformat": 4,
 "nbformat_minor": 5
}
